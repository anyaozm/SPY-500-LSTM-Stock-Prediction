{
  "nbformat": 4,
  "nbformat_minor": 0,
  "metadata": {
    "colab": {
      "name": "StockUpdated.ipynb",
      "provenance": [],
      "authorship_tag": "ABX9TyNZjOxrf0mQ6+0pOFMibw3o",
      "include_colab_link": true
    },
    "kernelspec": {
      "name": "python3",
      "display_name": "Python 3"
    },
    "accelerator": "GPU"
  },
  "cells": [
    {
      "cell_type": "markdown",
      "metadata": {
        "id": "view-in-github",
        "colab_type": "text"
      },
      "source": [
        "<a href=\"https://colab.research.google.com/github/anyaozm/SPY-500-LSTM-Stock-Prediction/blob/master/StockUpdated.ipynb\" target=\"_parent\"><img src=\"https://colab.research.google.com/assets/colab-badge.svg\" alt=\"Open In Colab\"/></a>"
      ]
    },
    {
      "cell_type": "code",
      "metadata": {
        "id": "WPl0WMNpr_nx",
        "colab_type": "code",
        "colab": {}
      },
      "source": [
        "#Desc: LSTM for Closing Stock Price"
      ],
      "execution_count": 0,
      "outputs": []
    },
    {
      "cell_type": "code",
      "metadata": {
        "id": "dgyxDSU5t43N",
        "colab_type": "code",
        "colab": {
          "base_uri": "https://localhost:8080/",
          "height": 71
        },
        "outputId": "78c88e2e-10df-4e42-a2e1-3a5b75c9afa5"
      },
      "source": [
        "#import\n",
        "import math\n",
        "import pandas_datareader as web\n",
        "import numpy as np\n",
        "import pandas as pd\n",
        "from sklearn.preprocessing import MinMaxScaler\n",
        "from keras.models import Sequential\n",
        "from keras.layers import Dense, LSTM, Dropout,GRU\n",
        "import matplotlib.pyplot as plt\n",
        "plt.style.use('fivethirtyeight')"
      ],
      "execution_count": 1,
      "outputs": [
        {
          "output_type": "stream",
          "text": [
            "/usr/local/lib/python3.6/dist-packages/pandas_datareader/compat/__init__.py:7: FutureWarning: pandas.util.testing is deprecated. Use the functions in the public API at pandas.testing instead.\n",
            "  from pandas.util.testing import assert_frame_equal\n",
            "Using TensorFlow backend.\n"
          ],
          "name": "stderr"
        }
      ]
    },
    {
      "cell_type": "code",
      "metadata": {
        "id": "XfVk_rsct6fv",
        "colab_type": "code",
        "colab": {}
      },
      "source": [
        "df = web.DataReader('SPY', data_source='yahoo', start='1960-01-01', end='2020-03-24')"
      ],
      "execution_count": 0,
      "outputs": []
    },
    {
      "cell_type": "code",
      "metadata": {
        "id": "iGU48BIVuW8O",
        "colab_type": "code",
        "colab": {
          "base_uri": "https://localhost:8080/",
          "height": 235
        },
        "outputId": "8c95dcee-5a78-48b9-cd26-cc108c4b5544"
      },
      "source": [
        "df.head()"
      ],
      "execution_count": 3,
      "outputs": [
        {
          "output_type": "execute_result",
          "data": {
            "text/html": [
              "<div>\n",
              "<style scoped>\n",
              "    .dataframe tbody tr th:only-of-type {\n",
              "        vertical-align: middle;\n",
              "    }\n",
              "\n",
              "    .dataframe tbody tr th {\n",
              "        vertical-align: top;\n",
              "    }\n",
              "\n",
              "    .dataframe thead th {\n",
              "        text-align: right;\n",
              "    }\n",
              "</style>\n",
              "<table border=\"1\" class=\"dataframe\">\n",
              "  <thead>\n",
              "    <tr style=\"text-align: right;\">\n",
              "      <th></th>\n",
              "      <th>High</th>\n",
              "      <th>Low</th>\n",
              "      <th>Open</th>\n",
              "      <th>Close</th>\n",
              "      <th>Volume</th>\n",
              "      <th>Adj Close</th>\n",
              "    </tr>\n",
              "    <tr>\n",
              "      <th>Date</th>\n",
              "      <th></th>\n",
              "      <th></th>\n",
              "      <th></th>\n",
              "      <th></th>\n",
              "      <th></th>\n",
              "      <th></th>\n",
              "    </tr>\n",
              "  </thead>\n",
              "  <tbody>\n",
              "    <tr>\n",
              "      <th>1993-01-29</th>\n",
              "      <td>43.96875</td>\n",
              "      <td>43.75000</td>\n",
              "      <td>43.96875</td>\n",
              "      <td>43.93750</td>\n",
              "      <td>1003200.0</td>\n",
              "      <td>26.299288</td>\n",
              "    </tr>\n",
              "    <tr>\n",
              "      <th>1993-02-01</th>\n",
              "      <td>44.25000</td>\n",
              "      <td>43.96875</td>\n",
              "      <td>43.96875</td>\n",
              "      <td>44.25000</td>\n",
              "      <td>480500.0</td>\n",
              "      <td>26.486324</td>\n",
              "    </tr>\n",
              "    <tr>\n",
              "      <th>1993-02-02</th>\n",
              "      <td>44.37500</td>\n",
              "      <td>44.12500</td>\n",
              "      <td>44.21875</td>\n",
              "      <td>44.34375</td>\n",
              "      <td>201300.0</td>\n",
              "      <td>26.542448</td>\n",
              "    </tr>\n",
              "    <tr>\n",
              "      <th>1993-02-03</th>\n",
              "      <td>44.84375</td>\n",
              "      <td>44.37500</td>\n",
              "      <td>44.40625</td>\n",
              "      <td>44.81250</td>\n",
              "      <td>529400.0</td>\n",
              "      <td>26.822998</td>\n",
              "    </tr>\n",
              "    <tr>\n",
              "      <th>1993-02-04</th>\n",
              "      <td>45.09375</td>\n",
              "      <td>44.46875</td>\n",
              "      <td>44.96875</td>\n",
              "      <td>45.00000</td>\n",
              "      <td>531500.0</td>\n",
              "      <td>26.935240</td>\n",
              "    </tr>\n",
              "  </tbody>\n",
              "</table>\n",
              "</div>"
            ],
            "text/plain": [
              "                High       Low      Open     Close     Volume  Adj Close\n",
              "Date                                                                    \n",
              "1993-01-29  43.96875  43.75000  43.96875  43.93750  1003200.0  26.299288\n",
              "1993-02-01  44.25000  43.96875  43.96875  44.25000   480500.0  26.486324\n",
              "1993-02-02  44.37500  44.12500  44.21875  44.34375   201300.0  26.542448\n",
              "1993-02-03  44.84375  44.37500  44.40625  44.81250   529400.0  26.822998\n",
              "1993-02-04  45.09375  44.46875  44.96875  45.00000   531500.0  26.935240"
            ]
          },
          "metadata": {
            "tags": []
          },
          "execution_count": 3
        }
      ]
    },
    {
      "cell_type": "code",
      "metadata": {
        "id": "5AQqkOTxumhO",
        "colab_type": "code",
        "colab": {
          "base_uri": "https://localhost:8080/",
          "height": 35
        },
        "outputId": "11af1a21-7db0-4101-c93b-acebb4c86e6a"
      },
      "source": [
        "df.shape"
      ],
      "execution_count": 4,
      "outputs": [
        {
          "output_type": "execute_result",
          "data": {
            "text/plain": [
              "(6837, 6)"
            ]
          },
          "metadata": {
            "tags": []
          },
          "execution_count": 4
        }
      ]
    },
    {
      "cell_type": "code",
      "metadata": {
        "id": "LLrxc1gPus5-",
        "colab_type": "code",
        "colab": {
          "base_uri": "https://localhost:8080/",
          "height": 536
        },
        "outputId": "a63b550d-d34f-4a9a-c03b-5da85819368e"
      },
      "source": [
        "#visualize\n",
        "plt.figure(figsize=(16,8))\n",
        "plt.title('Close Price')\n",
        "plt.plot(df['Close'])\n",
        "plt.xlabel('Date',fontsize=18)\n",
        "plt.xlabel('Price',fontsize=18)"
      ],
      "execution_count": 5,
      "outputs": [
        {
          "output_type": "execute_result",
          "data": {
            "text/plain": [
              "Text(0.5, 0, 'Price')"
            ]
          },
          "metadata": {
            "tags": []
          },
          "execution_count": 5
        },
        {
          "output_type": "display_data",
          "data": {
            "image/png": "[encoded data removed]",
            "text/plain": [
              "<Figure size 1152x576 with 1 Axes>"
            ]
          },
          "metadata": {
            "tags": [],
            "needs_background": "light"
          }
        }
      ]
    },
    {
      "cell_type": "code",
      "metadata": {
        "id": "BRNBVxzIuydk",
        "colab_type": "code",
        "colab": {
          "base_uri": "https://localhost:8080/",
          "height": 35
        },
        "outputId": "0a42f22d-9e04-46db-8909-99481c9c8f03"
      },
      "source": [
        "#Create df with only close\n",
        "data =df.filter(['Close'])\n",
        "#convert the df into a numpy array\n",
        "dataset=data.values\n",
        "#get the number of rows to train\n",
        "training_data_len = math.ceil(len(dataset)*.8) #math.ceil to round up\n",
        "\n",
        "training_data_len"
      ],
      "execution_count": 6,
      "outputs": [
        {
          "output_type": "execute_result",
          "data": {
            "text/plain": [
              "5470"
            ]
          },
          "metadata": {
            "tags": []
          },
          "execution_count": 6
        }
      ]
    },
    {
      "cell_type": "code",
      "metadata": {
        "id": "lTHzqc94vWj9",
        "colab_type": "code",
        "colab": {}
      },
      "source": [
        "#Scale data\n",
        "scaler = MinMaxScaler(feature_range=(0,1))\n",
        "scaled_data = scaler.fit_transform(dataset)"
      ],
      "execution_count": 0,
      "outputs": []
    },
    {
      "cell_type": "code",
      "metadata": {
        "id": "hDG6nlynvdOZ",
        "colab_type": "code",
        "colab": {
          "base_uri": "https://localhost:8080/",
          "height": 179
        },
        "outputId": "94078814-da47-46f4-b9fc-c32b1e1a255e"
      },
      "source": [
        "#Create training dataset\n",
        "train_data = scaled_data[0:training_data_len, :] #after the comma for columns\n",
        "#Split data \n",
        "x_train = []\n",
        "y_train = []\n",
        "\n",
        "for i in range(10, len(train_data)): #60 days\n",
        "  x_train.append(train_data[i-10:i,0]) #not including i and 0th column\n",
        "  y_train.append(train_data[i, 0])\n",
        "  if i<=11:\n",
        "    print(x_train)\n",
        "    print(y_train)\n",
        "    print()"
      ],
      "execution_count": 8,
      "outputs": [
        {
          "output_type": "stream",
          "text": [
            "[array([0.00180125, 0.00286081, 0.00317868, 0.00476802, 0.00540376,\n",
            "       0.0052978 , 0.0052978 , 0.00423824, 0.00445015, 0.00519184])]\n",
            "[0.004026327996524137]\n",
            "\n",
            "[array([0.00180125, 0.00286081, 0.00317868, 0.00476802, 0.00540376,\n",
            "       0.0052978 , 0.0052978 , 0.00423824, 0.00445015, 0.00519184]), array([0.00286081, 0.00317868, 0.00476802, 0.00540376, 0.0052978 ,\n",
            "       0.0052978 , 0.00423824, 0.00445015, 0.00519184, 0.00402633])]\n",
            "[0.004026327996524137, 0.00021191199981704378]\n",
            "\n"
          ],
          "name": "stdout"
        }
      ]
    },
    {
      "cell_type": "code",
      "metadata": {
        "id": "P3vb2a4Nvowo",
        "colab_type": "code",
        "colab": {}
      },
      "source": [
        "#convert train data to numpy arrays\n",
        "x_train, y_train = np.array(x_train), np.array(y_train)"
      ],
      "execution_count": 0,
      "outputs": []
    },
    {
      "cell_type": "code",
      "metadata": {
        "id": "8O17S3NDwA2J",
        "colab_type": "code",
        "colab": {
          "base_uri": "https://localhost:8080/",
          "height": 35
        },
        "outputId": "942a0ead-2e04-41ff-ebbf-8101fe4de783"
      },
      "source": [
        "#reshape LSTM is 3 dimensional rows, timesteps, number of features\n",
        "x_train = np.reshape(x_train, (x_train.shape[0], x_train.shape[1], 1))\n",
        "x_train.shape"
      ],
      "execution_count": 10,
      "outputs": [
        {
          "output_type": "execute_result",
          "data": {
            "text/plain": [
              "(5460, 10, 1)"
            ]
          },
          "metadata": {
            "tags": []
          },
          "execution_count": 10
        }
      ]
    },
    {
      "cell_type": "code",
      "metadata": {
        "id": "iMURd4SEwDU4",
        "colab_type": "code",
        "colab": {}
      },
      "source": [
        "#Build LSTM model\n",
        "model =Sequential()\n",
        "model.add(LSTM(100, return_sequences=True, input_shape=(x_train.shape[1],1)))\n",
        "model.add(LSTM(50, return_sequences=False))\n",
        "model.add(Dense(25))\n",
        "model.add(Dense(1))"
      ],
      "execution_count": 0,
      "outputs": []
    },
    {
      "cell_type": "code",
      "metadata": {
        "id": "sepuVnYC3SeB",
        "colab_type": "code",
        "colab": {
          "base_uri": "https://localhost:8080/",
          "height": 395
        },
        "outputId": "bacdccad-9c0a-4190-9933-60e95ec0d3e9"
      },
      "source": [
        "model = Sequential()\n",
        "model.add(GRU(256 , input_shape=(x_train.shape[1],1) , return_sequences=True))\n",
        "model.add(Dropout(0.4))\n",
        "model.add(LSTM(256))\n",
        "model.add(Dropout(0.4))\n",
        "model.add(Dense(64 ,  activation = 'relu'))\n",
        "model.add(Dense(1))\n",
        "print(model.summary())"
      ],
      "execution_count": 35,
      "outputs": [
        {
          "output_type": "stream",
          "text": [
            "Model: \"sequential_3\"\n",
            "_________________________________________________________________\n",
            "Layer (type)                 Output Shape              Param #   \n",
            "=================================================================\n",
            "gru_2 (GRU)                  (None, 10, 256)           198144    \n",
            "_________________________________________________________________\n",
            "dropout_3 (Dropout)          (None, 10, 256)           0         \n",
            "_________________________________________________________________\n",
            "lstm_4 (LSTM)                (None, 256)               525312    \n",
            "_________________________________________________________________\n",
            "dropout_4 (Dropout)          (None, 256)               0         \n",
            "_________________________________________________________________\n",
            "dense_5 (Dense)              (None, 64)                16448     \n",
            "_________________________________________________________________\n",
            "dense_6 (Dense)              (None, 1)                 65        \n",
            "=================================================================\n",
            "Total params: 739,969\n",
            "Trainable params: 739,969\n",
            "Non-trainable params: 0\n",
            "_________________________________________________________________\n",
            "None\n"
          ],
          "name": "stdout"
        }
      ]
    },
    {
      "cell_type": "code",
      "metadata": {
        "id": "uyMLFtLKwQk_",
        "colab_type": "code",
        "colab": {}
      },
      "source": [
        "#Compile model\n",
        "model.compile(optimizer='adam', loss='mean_squared_error')"
      ],
      "execution_count": 0,
      "outputs": []
    },
    {
      "cell_type": "code",
      "metadata": {
        "id": "w91BJg_lwco8",
        "colab_type": "code",
        "colab": {
          "base_uri": "https://localhost:8080/",
          "height": 1000
        },
        "outputId": "bb07f59f-1f8d-486f-f273-efb71c9cde3f"
      },
      "source": [
        "#Train model batch is total number of sample, epochs is the number of iters when it's passed\n",
        "model.fit(x_train, y_train, batch_size=64, epochs=50)"
      ],
      "execution_count": 37,
      "outputs": [
        {
          "output_type": "stream",
          "text": [
            "Epoch 1/50\n",
            "5460/5460 [==============================] - 4s 713us/step - loss: 0.0027\n",
            "Epoch 2/50\n",
            "5460/5460 [==============================] - 3s 605us/step - loss: 3.3345e-04\n",
            "Epoch 3/50\n",
            "5460/5460 [==============================] - 3s 615us/step - loss: 2.8702e-04\n",
            "Epoch 4/50\n",
            "5460/5460 [==============================] - 3s 610us/step - loss: 2.3572e-04\n",
            "Epoch 5/50\n",
            "5460/5460 [==============================] - 3s 618us/step - loss: 2.1523e-04\n",
            "Epoch 6/50\n",
            "5460/5460 [==============================] - 3s 609us/step - loss: 1.9359e-04\n",
            "Epoch 7/50\n",
            "5460/5460 [==============================] - 3s 624us/step - loss: 1.7525e-04\n",
            "Epoch 8/50\n",
            "5460/5460 [==============================] - 3s 619us/step - loss: 1.6124e-04\n",
            "Epoch 9/50\n",
            "5460/5460 [==============================] - 3s 620us/step - loss: 1.5777e-04\n",
            "Epoch 10/50\n",
            "5460/5460 [==============================] - 3s 630us/step - loss: 1.4663e-04\n",
            "Epoch 11/50\n",
            "5460/5460 [==============================] - 3s 615us/step - loss: 1.4371e-04\n",
            "Epoch 12/50\n",
            "5460/5460 [==============================] - 3s 613us/step - loss: 1.1371e-04\n",
            "Epoch 13/50\n",
            "5460/5460 [==============================] - 3s 601us/step - loss: 1.1848e-04\n",
            "Epoch 14/50\n",
            "5460/5460 [==============================] - 3s 614us/step - loss: 1.1223e-04\n",
            "Epoch 15/50\n",
            "5460/5460 [==============================] - 3s 628us/step - loss: 1.1072e-04\n",
            "Epoch 16/50\n",
            "5460/5460 [==============================] - 3s 613us/step - loss: 1.0860e-04\n",
            "Epoch 17/50\n",
            "5460/5460 [==============================] - 3s 609us/step - loss: 9.7122e-05\n",
            "Epoch 18/50\n",
            "5460/5460 [==============================] - 3s 621us/step - loss: 9.9265e-05\n",
            "Epoch 19/50\n",
            "5460/5460 [==============================] - 3s 607us/step - loss: 9.9938e-05\n",
            "Epoch 20/50\n",
            "5460/5460 [==============================] - 3s 603us/step - loss: 1.2034e-04\n",
            "Epoch 21/50\n",
            "5460/5460 [==============================] - 3s 612us/step - loss: 1.0362e-04\n",
            "Epoch 22/50\n",
            "5460/5460 [==============================] - 3s 619us/step - loss: 1.0653e-04\n",
            "Epoch 23/50\n",
            "5460/5460 [==============================] - 3s 626us/step - loss: 1.0613e-04\n",
            "Epoch 24/50\n",
            "5460/5460 [==============================] - 3s 620us/step - loss: 9.6486e-05\n",
            "Epoch 25/50\n",
            "5460/5460 [==============================] - 3s 635us/step - loss: 1.1325e-04\n",
            "Epoch 26/50\n",
            "5460/5460 [==============================] - 3s 618us/step - loss: 1.0445e-04\n",
            "Epoch 27/50\n",
            "5460/5460 [==============================] - 3s 615us/step - loss: 9.9506e-05\n",
            "Epoch 28/50\n",
            "5460/5460 [==============================] - 3s 622us/step - loss: 1.0353e-04\n",
            "Epoch 29/50\n",
            "5460/5460 [==============================] - 3s 627us/step - loss: 9.5059e-05\n",
            "Epoch 30/50\n",
            "5460/5460 [==============================] - 3s 621us/step - loss: 1.0156e-04\n",
            "Epoch 31/50\n",
            "5460/5460 [==============================] - 3s 615us/step - loss: 9.1598e-05\n",
            "Epoch 32/50\n",
            "5460/5460 [==============================] - 3s 612us/step - loss: 9.7506e-05\n",
            "Epoch 33/50\n",
            "5460/5460 [==============================] - 3s 612us/step - loss: 9.7424e-05\n",
            "Epoch 34/50\n",
            "5460/5460 [==============================] - 3s 631us/step - loss: 9.8170e-05\n",
            "Epoch 35/50\n",
            "5460/5460 [==============================] - 3s 624us/step - loss: 9.8486e-05\n",
            "Epoch 36/50\n",
            "5460/5460 [==============================] - 3s 611us/step - loss: 1.0446e-04\n",
            "Epoch 37/50\n",
            "5460/5460 [==============================] - 3s 609us/step - loss: 1.0349e-04\n",
            "Epoch 38/50\n",
            "5460/5460 [==============================] - 3s 616us/step - loss: 1.0739e-04\n",
            "Epoch 39/50\n",
            "5460/5460 [==============================] - 3s 636us/step - loss: 9.3531e-05\n",
            "Epoch 40/50\n",
            "5460/5460 [==============================] - 3s 612us/step - loss: 9.7811e-05\n",
            "Epoch 41/50\n",
            "5460/5460 [==============================] - 3s 626us/step - loss: 1.0031e-04\n",
            "Epoch 42/50\n",
            "5460/5460 [==============================] - 3s 626us/step - loss: 1.0372e-04\n",
            "Epoch 43/50\n",
            "5460/5460 [==============================] - 3s 629us/step - loss: 9.5172e-05\n",
            "Epoch 44/50\n",
            "5460/5460 [==============================] - 3s 628us/step - loss: 9.2613e-05\n",
            "Epoch 45/50\n",
            "5460/5460 [==============================] - 3s 622us/step - loss: 9.5865e-05\n",
            "Epoch 46/50\n",
            "5460/5460 [==============================] - 3s 631us/step - loss: 1.1198e-04\n",
            "Epoch 47/50\n",
            "5460/5460 [==============================] - 3s 639us/step - loss: 1.1320e-04\n",
            "Epoch 48/50\n",
            "5460/5460 [==============================] - 3s 609us/step - loss: 1.0505e-04\n",
            "Epoch 49/50\n",
            "5460/5460 [==============================] - 3s 602us/step - loss: 9.8084e-05\n",
            "Epoch 50/50\n",
            "5460/5460 [==============================] - 3s 625us/step - loss: 9.8454e-05\n"
          ],
          "name": "stdout"
        },
        {
          "output_type": "execute_result",
          "data": {
            "text/plain": [
              "<keras.callbacks.callbacks.History at 0x7f5110522828>"
            ]
          },
          "metadata": {
            "tags": []
          },
          "execution_count": 37
        }
      ]
    },
    {
      "cell_type": "code",
      "metadata": {
        "id": "DfwGrucTwd2d",
        "colab_type": "code",
        "colab": {}
      },
      "source": [
        "#create test data \n",
        "#create an array with scaled values from index 1543 to 2003\n",
        "test_data = scaled_data[training_data_len - 10: 6837,:]\n",
        "#create x_test and y_test\n",
        "x_test= []\n",
        "y_test = dataset[training_data_len:,:]\n",
        "for i in range(10, len(test_data)):\n",
        "  x_test.append(test_data[i-10:i, 0])"
      ],
      "execution_count": 0,
      "outputs": []
    },
    {
      "cell_type": "code",
      "metadata": {
        "id": "hPzKPfRFxA0m",
        "colab_type": "code",
        "colab": {}
      },
      "source": [
        "#convert data to a numpy array\n",
        "x_test = np.array(x_test)"
      ],
      "execution_count": 0,
      "outputs": []
    },
    {
      "cell_type": "code",
      "metadata": {
        "id": "p3E0nTWJxC4o",
        "colab_type": "code",
        "colab": {}
      },
      "source": [
        "#reshape\n",
        "x_test = np.reshape(x_test,(x_test.shape[0], x_test.shape[1], 1))"
      ],
      "execution_count": 0,
      "outputs": []
    },
    {
      "cell_type": "code",
      "metadata": {
        "id": "N_IRjL3sxD_t",
        "colab_type": "code",
        "colab": {}
      },
      "source": [
        "#Get the models predicted price values\n",
        "predictions = model.predict(x_test)\n",
        "#rescale back to normal\n",
        "predictions = scaler.inverse_transform(predictions)"
      ],
      "execution_count": 0,
      "outputs": []
    },
    {
      "cell_type": "code",
      "metadata": {
        "id": "PDy_-bF4xFJr",
        "colab_type": "code",
        "colab": {
          "base_uri": "https://localhost:8080/",
          "height": 35
        },
        "outputId": "040a8bbb-cb9a-4705-f434-596064c418a8"
      },
      "source": [
        "#evalute get root mean squared error (RMSE) measures how good it is lower the better\n",
        "rmse = np.sqrt(np.mean(predictions- y_test)**2)\n",
        "rmse"
      ],
      "execution_count": 42,
      "outputs": [
        {
          "output_type": "execute_result",
          "data": {
            "text/plain": [
              "4.360111116578131"
            ]
          },
          "metadata": {
            "tags": []
          },
          "execution_count": 42
        }
      ]
    },
    {
      "cell_type": "code",
      "metadata": {
        "id": "q1bestTyxGS9",
        "colab_type": "code",
        "colab": {
          "base_uri": "https://localhost:8080/",
          "height": 626
        },
        "outputId": "81a85ec7-bfc6-4ffc-e92b-c3ce5501a0ca"
      },
      "source": [
        "#Plot data\n",
        "train = data[:training_data_len]\n",
        "validation = data[training_data_len:]\n",
        "validation['Predictions'] = predictions\n",
        "#Visualize\n",
        "plt.figure(figsize=(16,8))\n",
        "plt.title('Model')\n",
        "plt.xlabel('Date', fontsize=18)\n",
        "plt.ylabel('Close Price USD($)', fontsize=18)\n",
        "plt.plot(train['Close'])\n",
        "plt.plot(validation[['Close','Predictions']])\n",
        "plt.legend(['Train','Val','Predictions'])\n",
        "plt.show()"
      ],
      "execution_count": 43,
      "outputs": [
        {
          "output_type": "stream",
          "text": [
            "/usr/local/lib/python3.6/dist-packages/ipykernel_launcher.py:3: SettingWithCopyWarning: \n",
            "A value is trying to be set on a copy of a slice from a DataFrame.\n",
            "Try using .loc[row_indexer,col_indexer] = value instead\n",
            "\n",
            "See the caveats in the documentation: https://pandas.pydata.org/pandas-docs/stable/user_guide/indexing.html#returning-a-view-versus-a-copy\n",
            "  This is separate from the ipykernel package so we can avoid doing imports until\n"
          ],
          "name": "stderr"
        },
        {
          "output_type": "display_data",
          "data": {
            "image/png": "[encoded data removed]",
            "text/plain": [
              "<Figure size 1152x576 with 1 Axes>"
            ]
          },
          "metadata": {
            "tags": [],
            "needs_background": "light"
          }
        }
      ]
    },
    {
      "cell_type": "code",
      "metadata": {
        "id": "brnPg1o0xdmk",
        "colab_type": "code",
        "colab": {
          "base_uri": "https://localhost:8080/",
          "height": 450
        },
        "outputId": "8da48ef4-d5f0-4cea-fd62-97779339ecaf"
      },
      "source": [
        "validation"
      ],
      "execution_count": 44,
      "outputs": [
        {
          "output_type": "execute_result",
          "data": {
            "text/html": [
              "<div>\n",
              "<style scoped>\n",
              "    .dataframe tbody tr th:only-of-type {\n",
              "        vertical-align: middle;\n",
              "    }\n",
              "\n",
              "    .dataframe tbody tr th {\n",
              "        vertical-align: top;\n",
              "    }\n",
              "\n",
              "    .dataframe thead th {\n",
              "        text-align: right;\n",
              "    }\n",
              "</style>\n",
              "<table border=\"1\" class=\"dataframe\">\n",
              "  <thead>\n",
              "    <tr style=\"text-align: right;\">\n",
              "      <th></th>\n",
              "      <th>Close</th>\n",
              "      <th>Predictions</th>\n",
              "    </tr>\n",
              "    <tr>\n",
              "      <th>Date</th>\n",
              "      <th></th>\n",
              "      <th></th>\n",
              "    </tr>\n",
              "  </thead>\n",
              "  <tbody>\n",
              "    <tr>\n",
              "      <th>2014-10-17</th>\n",
              "      <td>188.470001</td>\n",
              "      <td>185.951385</td>\n",
              "    </tr>\n",
              "    <tr>\n",
              "      <th>2014-10-20</th>\n",
              "      <td>190.300003</td>\n",
              "      <td>186.944107</td>\n",
              "    </tr>\n",
              "    <tr>\n",
              "      <th>2014-10-21</th>\n",
              "      <td>194.070007</td>\n",
              "      <td>188.416397</td>\n",
              "    </tr>\n",
              "    <tr>\n",
              "      <th>2014-10-22</th>\n",
              "      <td>192.690002</td>\n",
              "      <td>191.074432</td>\n",
              "    </tr>\n",
              "    <tr>\n",
              "      <th>2014-10-23</th>\n",
              "      <td>194.929993</td>\n",
              "      <td>191.377914</td>\n",
              "    </tr>\n",
              "    <tr>\n",
              "      <th>...</th>\n",
              "      <td>...</td>\n",
              "      <td>...</td>\n",
              "    </tr>\n",
              "    <tr>\n",
              "      <th>2020-03-18</th>\n",
              "      <td>240.000000</td>\n",
              "      <td>247.695572</td>\n",
              "    </tr>\n",
              "    <tr>\n",
              "      <th>2020-03-19</th>\n",
              "      <td>240.509995</td>\n",
              "      <td>241.661011</td>\n",
              "    </tr>\n",
              "    <tr>\n",
              "      <th>2020-03-20</th>\n",
              "      <td>228.800003</td>\n",
              "      <td>238.813110</td>\n",
              "    </tr>\n",
              "    <tr>\n",
              "      <th>2020-03-23</th>\n",
              "      <td>222.949997</td>\n",
              "      <td>231.377411</td>\n",
              "    </tr>\n",
              "    <tr>\n",
              "      <th>2020-03-24</th>\n",
              "      <td>243.149994</td>\n",
              "      <td>224.834625</td>\n",
              "    </tr>\n",
              "  </tbody>\n",
              "</table>\n",
              "<p>1367 rows × 2 columns</p>\n",
              "</div>"
            ],
            "text/plain": [
              "                 Close  Predictions\n",
              "Date                               \n",
              "2014-10-17  188.470001   185.951385\n",
              "2014-10-20  190.300003   186.944107\n",
              "2014-10-21  194.070007   188.416397\n",
              "2014-10-22  192.690002   191.074432\n",
              "2014-10-23  194.929993   191.377914\n",
              "...                ...          ...\n",
              "2020-03-18  240.000000   247.695572\n",
              "2020-03-19  240.509995   241.661011\n",
              "2020-03-20  228.800003   238.813110\n",
              "2020-03-23  222.949997   231.377411\n",
              "2020-03-24  243.149994   224.834625\n",
              "\n",
              "[1367 rows x 2 columns]"
            ]
          },
          "metadata": {
            "tags": []
          },
          "execution_count": 44
        }
      ]
    },
    {
      "cell_type": "code",
      "metadata": {
        "id": "3EV17q800mCs",
        "colab_type": "code",
        "colab": {}
      },
      "source": [
        "validation['Pr1'] = validation['Close'].shift(-1)\n",
        "validation['Pr2'] = validation['Predictions'].shift(-1)"
      ],
      "execution_count": 0,
      "outputs": []
    },
    {
      "cell_type": "code",
      "metadata": {
        "id": "eorKxyJ70oTC",
        "colab_type": "code",
        "colab": {}
      },
      "source": [
        "validation['Pricediff1'] = validation['Pr1']- validation['Close']\n",
        "validation['Pricediff2'] =validation['Pr2']- validation['Predictions']"
      ],
      "execution_count": 0,
      "outputs": []
    },
    {
      "cell_type": "code",
      "metadata": {
        "id": "PUso5-M50p0S",
        "colab_type": "code",
        "colab": {}
      },
      "source": [
        "validation['Daily Return'] = validation['Pricediff1']/validation['Close']\n",
        "validation['Daily Return2'] = validation['Pricediff2']/validation['Predictions']"
      ],
      "execution_count": 0,
      "outputs": []
    },
    {
      "cell_type": "code",
      "metadata": {
        "id": "WEpSgY0S0sGf",
        "colab_type": "code",
        "colab": {}
      },
      "source": [
        "validation"
      ],
      "execution_count": 0,
      "outputs": []
    },
    {
      "cell_type": "code",
      "metadata": {
        "id": "lqzPEU080s6-",
        "colab_type": "code",
        "colab": {}
      },
      "source": [
        "validation['Direction Real'] = [1 if validation.loc[i, 'Pricediff1'] > 0 else -1\n",
        "                                for i in validation.index]\n",
        "validation['Direction Prediction'] = [1 if validation.loc[i, 'Pricediff2'] > 0 else -1\n",
        "                                for i in validation.index]"
      ],
      "execution_count": 0,
      "outputs": []
    },
    {
      "cell_type": "code",
      "metadata": {
        "id": "zd_vmQn00t_F",
        "colab_type": "code",
        "colab": {}
      },
      "source": [
        "validation['Compare'] = [1 if validation.loc[i, 'Direction Real'] == validation.loc[i, 'Direction Prediction'] else 0 for i in validation.index]"
      ],
      "execution_count": 0,
      "outputs": []
    },
    {
      "cell_type": "code",
      "metadata": {
        "id": "S5aJHyH_0vrB",
        "colab_type": "code",
        "colab": {}
      },
      "source": [
        "validation['Daily Return Comparison'] = validation['Daily Return']/validation['Daily Return2']"
      ],
      "execution_count": 0,
      "outputs": []
    },
    {
      "cell_type": "code",
      "metadata": {
        "id": "qpdfwz1y0x4n",
        "colab_type": "code",
        "colab": {}
      },
      "source": [
        "print(validation['Daily Return Comparison'][validation['Compare'] == 1].describe())\n",
        "print(validation['Daily Return Comparison'][validation['Compare'] == 1].sum())"
      ],
      "execution_count": 0,
      "outputs": []
    },
    {
      "cell_type": "code",
      "metadata": {
        "id": "Rvi3xHmr0y7f",
        "colab_type": "code",
        "colab": {}
      },
      "source": [
        "print(validation['Daily Return Comparison'][validation['Compare'] == 0].describe())\n",
        "print(validation['Daily Return Comparison'][validation['Compare'] == 0].sum())"
      ],
      "execution_count": 0,
      "outputs": []
    },
    {
      "cell_type": "code",
      "metadata": {
        "id": "WS9mTk1500dy",
        "colab_type": "code",
        "colab": {}
      },
      "source": [
        "validation['Compare'].sum()"
      ],
      "execution_count": 0,
      "outputs": []
    },
    {
      "cell_type": "code",
      "metadata": {
        "id": "cytM3Ats6KMO",
        "colab_type": "code",
        "colab": {}
      },
      "source": [
        "len(validation['Compare'])"
      ],
      "execution_count": 0,
      "outputs": []
    },
    {
      "cell_type": "code",
      "metadata": {
        "id": "cTn5TlrX6Qy-",
        "colab_type": "code",
        "colab": {}
      },
      "source": [
        ""
      ],
      "execution_count": 0,
      "outputs": []
    }
  ]
}